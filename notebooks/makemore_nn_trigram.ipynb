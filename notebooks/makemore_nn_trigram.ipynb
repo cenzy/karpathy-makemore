{
 "cells": [
  {
   "cell_type": "code",
   "execution_count": 1,
   "metadata": {},
   "outputs": [
    {
     "data": {
      "text/plain": [
       "228145"
      ]
     },
     "execution_count": 1,
     "metadata": {},
     "output_type": "execute_result"
    }
   ],
   "source": [
    "import requests\n",
    "import torch\n",
    "\n",
    "url = \"https://raw.githubusercontent.com/karpathy/makemore/master/names.txt\"\n",
    "r = requests.get(url, allow_redirects=True)\n",
    "\n",
    "open('names.txt', 'wb').write(r.content)"
   ]
  },
  {
   "cell_type": "code",
   "execution_count": 2,
   "metadata": {},
   "outputs": [],
   "source": [
    "from nn_model import NNTrigramModel\n",
    "\n",
    "words = open('italian_names.txt', 'r').read().splitlines()\n",
    "nnm = NNTrigramModel(words)"
   ]
  },
  {
   "cell_type": "code",
   "execution_count": 3,
   "metadata": {},
   "outputs": [
    {
     "name": "stdout",
     "output_type": "stream",
     "text": [
      "4.191324234008789\n",
      "2.3689305782318115\n",
      "2.2282683849334717\n",
      "2.178713321685791\n",
      "2.15381121635437\n"
     ]
    }
   ],
   "source": [
    "nnm.train(epochs=50, verbose=True, lr=50, smoothing=0)"
   ]
  },
  {
   "cell_type": "code",
   "execution_count": 6,
   "metadata": {},
   "outputs": [
    {
     "data": {
      "text/plain": [
       "['na.',\n",
       " 'an.',\n",
       " 'hovanto.',\n",
       " 'arigebenetra.',\n",
       " 'anniriolmarini.',\n",
       " 'oagra.',\n",
       " 'ulindroamaktonasmitaniree.',\n",
       " 'ala.',\n",
       " 'usia.',\n",
       " 'chxkfxande.',\n",
       " 'ariatene.',\n",
       " 'almvinolio.',\n",
       " 'menia.',\n",
       " 'alemenmarario.',\n",
       " 'ioluiressrio.',\n",
       " 'ela.',\n",
       " 'ardcesemah.',\n",
       " 'ar.',\n",
       " 'ulle.',\n",
       " 'pa.',\n",
       " 'ondamerionaruelessa.',\n",
       " 'anichi.',\n",
       " 'aaan.',\n",
       " 'uellepaeria.',\n",
       " 'dareommelanigalvilo.',\n",
       " 'aria.',\n",
       " 'omessia.',\n",
       " 'oluofabluca.',\n",
       " 'armarine.',\n",
       " 'amia.',\n",
       " 'nhemaanlesso.',\n",
       " 'lia.',\n",
       " 'amattoo.',\n",
       " 'alustantana.',\n",
       " 'ancotani.',\n",
       " 'naria.',\n",
       " 'lepite.',\n",
       " 'yppavargilosilo.',\n",
       " 'adrestilorisalo.',\n",
       " 'olesppe.',\n",
       " 'nh.',\n",
       " 'oudenia.',\n",
       " 'ue.',\n",
       " 'udo.',\n",
       " 'hardondxnzo.',\n",
       " 'gdo.',\n",
       " 'riasalaton.',\n",
       " 'anlo.',\n",
       " 'alvariaramineesepgentrinavvdan.',\n",
       " 'alvabria.']"
      ]
     },
     "execution_count": 6,
     "metadata": {},
     "output_type": "execute_result"
    }
   ],
   "source": [
    "nnm.inference(seed=3434, n_word=50)"
   ]
  },
  {
   "cell_type": "code",
   "execution_count": null,
   "metadata": {},
   "outputs": [],
   "source": []
  }
 ],
 "metadata": {
  "kernelspec": {
   "display_name": "Python 3.9.7 ('artgraph')",
   "language": "python",
   "name": "python3"
  },
  "language_info": {
   "codemirror_mode": {
    "name": "ipython",
    "version": 3
   },
   "file_extension": ".py",
   "mimetype": "text/x-python",
   "name": "python",
   "nbconvert_exporter": "python",
   "pygments_lexer": "ipython3",
   "version": "3.9.7"
  },
  "orig_nbformat": 4,
  "vscode": {
   "interpreter": {
    "hash": "0294406dd162f839e3e9b49f7c7ed29389332059d61fed4daefa8cf3ba82309c"
   }
  }
 },
 "nbformat": 4,
 "nbformat_minor": 2
}
